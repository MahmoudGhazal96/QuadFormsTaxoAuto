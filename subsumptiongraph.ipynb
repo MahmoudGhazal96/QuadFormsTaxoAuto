{
 "cells": [
  {
   "cell_type": "code",
   "execution_count": 2,
   "metadata": {},
   "outputs": [],
   "source": [
    "import pandas as pd\n",
    "import numpy as np\n",
    "import matplotlib.pyplot as plt\n",
    "import networkx as nx"
   ]
  },
  {
   "cell_type": "code",
   "execution_count": 20,
   "metadata": {},
   "outputs": [
    {
     "name": "stdout",
     "output_type": "stream",
     "text": [
      "[[nan nan nan nan nan]\n",
      " [nan  0.  1.  0.  1.]\n",
      " [nan  1.  0.  1.  0.]\n",
      " [nan  0.  1.  0.  1.]\n",
      " [nan  1.  0.  1.  0.]]\n",
      "<class 'numpy.ndarray'>\n"
     ]
    }
   ],
   "source": [
    "mydata = np.genfromtxt('Scratch/gr.csv', delimiter=',')\n",
    "print(mydata)\n",
    "print(type(mydata))"
   ]
  },
  {
   "cell_type": "code",
   "execution_count": 22,
   "metadata": {},
   "outputs": [
    {
     "name": "stdout",
     "output_type": "stream",
     "text": [
      "[[0. 1. 0. 1.]\n",
      " [1. 0. 1. 0.]\n",
      " [0. 1. 0. 1.]\n",
      " [1. 0. 1. 0.]] <class 'numpy.ndarray'> <class 'numpy.ndarray'>\n"
     ]
    }
   ],
   "source": [
    "adjacency = mydata[1:,1:]\n",
    "print(adjacency, type(mydata), type(adjacency))"
   ]
  },
  {
   "cell_type": "code",
   "execution_count": 23,
   "metadata": {},
   "outputs": [],
   "source": [
    "def show_graph_with_labels(adjacency_matrix, mylabels):\n",
    "    rows, cols = np.where(adjacency_matrix == 1)\n",
    "    edges = zip(rows.tolist(), cols.tolist())\n",
    "    gr = nx.Graph()\n",
    "    gr.add_edges_from(edges)\n",
    "    nx.draw(gr, node_size=500, labels=mylabels, with_labels=True)\n",
    "    plt.show()"
   ]
  },
  {
   "cell_type": "code",
   "execution_count": 29,
   "metadata": {},
   "outputs": [
    {
     "data": {
      "image/png": "[encoded data removed]",
      "text/plain": [
       "<Figure size 640x480 with 1 Axes>"
      ]
     },
     "metadata": {},
     "output_type": "display_data"
    },
    {
     "name": "stdout",
     "output_type": "stream",
     "text": [
      "{0: 'a', 1: 'b', 2: 'c', 3: 'd'}\n"
     ]
    }
   ],
   "source": [
    "labelsx = {0: 'a', 1: 'b', 2: 'c', 3: 'd'}\n",
    "show_graph_with_labels(adjacency, labelsx)\n",
    "print(labelsx)"
   ]
  },
  {
   "cell_type": "code",
   "execution_count": 41,
   "metadata": {},
   "outputs": [
    {
     "name": "stdout",
     "output_type": "stream",
     "text": [
      "Writing 'latex_code' (str) to file 'build/graph.tex'.\n"
     ]
    }
   ],
   "source": [
    "def dump_to_latex(adjacency_matrix, mylabels):\n",
    "    rows, cols = np.where(adjacency_matrix == 1)\n",
    "    edges = zip(rows.tolist(), cols.tolist())\n",
    "    gr = nx.Graph()\n",
    "    gr.add_edges_from(edges)\n",
    "    pos = nx.spectral_layout(gr)\n",
    "    return nx.to_latex(gr, pos=pos)\n",
    "    \n",
    "latex_code = dump_to_latex(adjacency, labelsx)\n",
    "%store latex_code >build/graph.tex"
   ]
  },
  {
   "cell_type": "code",
   "execution_count": 57,
   "metadata": {},
   "outputs": [
    {
     "data": {
      "text/plain": [
       "(33, 33)"
      ]
     },
     "execution_count": 57,
     "metadata": {},
     "output_type": "execute_result"
    }
   ],
   "source": [
    "datax = pd.read_excel(\"./QuadFormsData.xlsx\", sheet_name=\"MultiAdjacenceyCompl\")\n",
    "data_np = datax.iloc[0:, 1:].to_numpy()\n",
    "data_np[np.isnan(data_np)] = 0\n",
    "data_np.shape\n"
   ]
  },
  {
   "cell_type": "code",
   "execution_count": 65,
   "metadata": {},
   "outputs": [
    {
     "name": "stdout",
     "output_type": "stream",
     "text": [
      "{0: 'khammassiNewAnalyticalApproximation2022', 1: 'lavernyEstimationMultivariateGeneralized2021', 2: 'tekinayMomentsQuadrivariateRayleigh2020', 3: 'BithasNovelResults2019', 4: 'wiegandSeriesApproximationsRayleigh2019', 5: 'wiegandSeriesRepresentationMultidimensional2018', 6: 'beaulieuNewSimplestExact2017Eq8', 7: 'beaulieuNewSimplestExact2017Eq13', 8: 'lasserreComputingGaussianExponential2017', 9: 'royenNonCentralMultivariateChiSquare2016', 10: 'beaulieuNovelRepresentationsBivariate2011', 11: 'beaulieuNovelSimpleRepresentations2011Eq14', 12: 'beaulieuNovelSimpleRepresentations2011Eq18', 13: 'beaulieuNovelSimpleRepresentations2011Eq20', 14: 'beaulieuNovelSimpleRepresentations2011Eq22', 15: 'morales-jimenezDiagonalDistributionComplex2011', 16: 'dharmawansaDiagonalDistributionComplex2009', 17: 'dharmawansaNewSeriesRepresentation2009', 18: 'peppasTrivariateNakagamimDistribution2009', 19: 'royenIntegralRepresentationsApproximations2007', 20: 'royenIntegralRepresentationsConvolutions2007', 21: 'tavaresStatisticsSumSquared2007', 22: 'hagedornTrivariateChisquaredDistribution2006Eq17', 23: 'hagedornTrivariateChisquaredDistribution2006Eq26', 24: 'chenInfiniteSeriesRepresentations2005Eq16', 25: 'chenInfiniteSeriesRepresentations2005Eq5', 26: 'schoneJointDistributionQuadratic2000', 27: 'royenCENTRALNONCENTRALMULTIVARIATE1995Eq3.6', 28: 'royenCENTRALNONCENTRALMULTIVARIATE1995Eq3.9', 29: 'royenCENTRALNONCENTRALMULTIVARIATE1995Eq3.13', 30: 'royenMultivariateGammadistributionsConnected1994', 31: 'royenExpansionsMultivariateChisquare1991', 32: 'royenMultivariateGammaDistributions1991Eq2.1.13'}\n"
     ]
    }
   ],
   "source": [
    "mv_labels = datax.iloc[:, 0]\n",
    "mv_labels_lst = [lb for lb in mv_labels]\n",
    "mv_labels_actual = {}\n",
    "for i, lb in enumerate(mv_labels_lst):\n",
    "    mv_labels_actual[i] = str(i) # lb\n",
    "print(mv_labels_actual)"
   ]
  },
  {
   "cell_type": "code",
   "execution_count": 70,
   "metadata": {},
   "outputs": [
    {
     "name": "stdout",
     "output_type": "stream",
     "text": [
      "Writing 'latex_code' (str) to file 'build/graph.tex'.\n"
     ]
    }
   ],
   "source": [
    "# show_graph_with_labels(data_np, {})\n",
    "latex_code = dump_to_latex(data_np, mv_labels_actual)\n",
    "%store latex_code >build/graph.tex"
   ]
  }
 ],
 "metadata": {
  "kernelspec": {
   "display_name": "Python 3",
   "language": "python",
   "name": "python3"
  },
  "language_info": {
   "codemirror_mode": {
    "name": "ipython",
    "version": 3
   },
   "file_extension": ".py",
   "mimetype": "text/x-python",
   "name": "python",
   "nbconvert_exporter": "python",
   "pygments_lexer": "ipython3",
   "version": "3.11.7"
  }
 },
 "nbformat": 4,
 "nbformat_minor": 2
}
