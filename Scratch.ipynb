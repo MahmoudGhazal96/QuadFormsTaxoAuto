{
 "cells": [
  {
   "cell_type": "code",
   "execution_count": 10,
   "metadata": {},
   "outputs": [
    {
     "name": "stdout",
     "output_type": "stream",
     "text": [
      "2000-01-10\n"
     ]
    }
   ],
   "source": [
    "import datetime\n",
    "x = datetime.date(2000, 1, 10)\n",
    "y = datetime.date(2024, 1, 10)\n",
    "print(x)"
   ]
  },
  {
   "cell_type": "code",
   "execution_count": 13,
   "metadata": {},
   "outputs": [
    {
     "name": "stdout",
     "output_type": "stream",
     "text": [
      "-8766 days, 0:00:00 |||| -8766\n"
     ]
    }
   ],
   "source": [
    "print((x - y), \"||||\", x.toordinal() - y.toordinal())"
   ]
  },
  {
   "cell_type": "code",
   "execution_count": 17,
   "metadata": {},
   "outputs": [
    {
     "name": "stdout",
     "output_type": "stream",
     "text": [
      "[730129, 730130, 733782]\n"
     ]
    }
   ],
   "source": [
    "import datetime\n",
    "\n",
    "x=[]\n",
    "x.append(datetime.date(2000, 1, 10))\n",
    "x.append(datetime.date(2000, 1, 11))\n",
    "x.append(datetime.date(2010, 1, 10))\n",
    "xt=[]\n",
    "for i in range(len(x)):\n",
    "    xt.append(x[i].toordinal())\n",
    "print(xt)"
   ]
  },
  {
   "cell_type": "code",
   "execution_count": 111,
   "metadata": {},
   "outputs": [
    {
     "data": {
      "text/plain": [
       "[681004800.0,\n",
       " 691545600.0,\n",
       " 770428800.0,\n",
       " 788918400.0,\n",
       " 830908800.0,\n",
       " 833587200.0,\n",
       " 944006400.0,\n",
       " 949363200.0,\n",
       " 959817600.0,\n",
       " 1004572800.0,\n",
       " 1133395200.0,\n",
       " 1141171200.0,\n",
       " 1175385600.0,\n",
       " 1188604800.0,\n",
       " 1193875200.0,\n",
       " 1228089600.0,\n",
       " 1233446400.0,\n",
       " 1235865600.0,\n",
       " 1238544000.0,\n",
       " 1246406400.0,\n",
       " 1314835200.0,\n",
       " 1320105600.0,\n",
       " 1322697600.0,\n",
       " 1322697600.0,\n",
       " 1333238400.0,\n",
       " 1351728000.0,\n",
       " 1367366400.0,\n",
       " 1377993600.0,\n",
       " 1383264000.0,\n",
       " 1425168000.0,\n",
       " 1451606400.0,\n",
       " 1467331200.0,\n",
       " 1477958400.0,\n",
       " 1480550400.0,\n",
       " 1498867200.0,\n",
       " 1504224000.0,\n",
       " 1514764800.0,\n",
       " 1541030400.0,\n",
       " 1541030400.0,\n",
       " 1548979200.0,\n",
       " 1559347200.0,\n",
       " 1561939200.0,\n",
       " 1572566400.0,\n",
       " 1575158400.0,\n",
       " 1596240000.0,\n",
       " 1598918400.0,\n",
       " 1598918400.0,\n",
       " 1625097600.0,\n",
       " 1638316800.0,\n",
       " 1646092800.0,\n",
       " 1664582400.0]"
      ]
     },
     "execution_count": 111,
     "metadata": {},
     "output_type": "execute_result"
    }
   ],
   "source": [
    "import pandas\n",
    "\n",
    "datax = pandas.read_excel(\"QuadFormsData.xlsx\", \"Category A\")\n",
    "#datax=datax.dropna()\n",
    "datax = datax.drop_duplicates(subset=[\"Citation Key\"])\n",
    "datax=datax.sort_values('Date')\n",
    "\n",
    "x=list(datax['Date'])\n",
    "xt=[]\n",
    "for i in range(len(x)):\n",
    "    if type(x[i])==pandas._libs.tslibs.timestamps.Timestamp:\n",
    "        xt.append(x[i].timestamp())\n",
    "\n",
    "\n",
    "\n"
   ]
  },
  {
   "cell_type": "code",
   "execution_count": 120,
   "metadata": {},
   "outputs": [],
   "source": [
    "import pandas as pd\n",
    "import numpy as np\n",
    "xdata = pd.read_excel(\"QuadFormsData.xlsx\", \"Category A\")\n",
    "\n",
    "xdata = xdata.drop_duplicates(subset=[\"Citation Key\"])\n",
    "xdata=xdata.sort_values('Date')\n",
    "xt=[]\n",
    "yt = []\n",
    "x=list(xdata['Date'])\n",
    "y = list(xdata['CitationCount'])\n",
    "for i in range(len(x)):\n",
    "    if type(x[i]) ==  pd._libs.tslibs.timestamps.Timestamp:\n",
    "        xt.append(x[i].timestamp())\n",
    "        yt.append(y[i])\n",
    "\n",
    "A = np.vstack([xt, np.ones(len(xt))]).T\n",
    "A       \n",
    "m, c = np.linalg.lstsq(A, yt, rcond=None)[0]"
   ]
  }
 ],
 "metadata": {
  "kernelspec": {
   "display_name": "Python 3",
   "language": "python",
   "name": "python3"
  },
  "language_info": {
   "codemirror_mode": {
    "name": "ipython",
    "version": 3
   },
   "file_extension": ".py",
   "mimetype": "text/x-python",
   "name": "python",
   "nbconvert_exporter": "python",
   "pygments_lexer": "ipython3",
   "version": "3.11.7"
  }
 },
 "nbformat": 4,
 "nbformat_minor": 2
}
